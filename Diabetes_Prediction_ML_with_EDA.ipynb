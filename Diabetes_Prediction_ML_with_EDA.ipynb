{
 "cells": [
  {
   "cell_type": "markdown",
   "id": "14e470e2",
   "metadata": {},
   "source": [
    "# Diabetes Prediction using Machine Learning Algorithms: A Classification Problem\n",
    "\n",
    "This project uses various ML classification algorithms (KNN, SVM, Decision Tree, Random Forest, XGBoost) to predict the likelihood of an individual having diabetes based on health-related parameters.\n",
    "\n",
    "### Dataset Features Used:\n",
    "- Glucose\n",
    "- Blood Pressure\n",
    "- Skin Thickness\n",
    "- Insulin\n",
    "- BMI\n",
    "- Diabetes Pedigree Function\n",
    "- Age\n"
   ]
  },
  {
   "cell_type": "code",
   "execution_count": null,
   "id": "c2c03e0e",
   "metadata": {},
   "outputs": [],
   "source": [
    "import pandas as pd\n",
    "import numpy as np\n",
    "from sklearn.model_selection import train_test_split\n",
    "from sklearn.preprocessing import StandardScaler\n",
    "from sklearn.metrics import accuracy_score, roc_auc_score, classification_report\n",
    "from sklearn.neighbors import KNeighborsClassifier\n",
    "from sklearn.svm import SVC\n",
    "from sklearn.tree import DecisionTreeClassifier\n",
    "from sklearn.ensemble import RandomForestClassifier\n",
    "from xgboost import XGBClassifier\n",
    "import warnings\n",
    "warnings.filterwarnings('ignore')\n"
   ]
  },
  {
   "cell_type": "code",
   "execution_count": null,
   "id": "3ed2589a",
   "metadata": {},
   "outputs": [],
   "source": [
    "# Load the dataset (make sure 'diabetes.csv' is in the same folder)\n",
    "df = pd.read_csv('diabetes.csv')\n",
    "df.head()\n"
   ]
  },
  {
   "cell_type": "markdown",
   "id": "ee5eb9a2",
   "metadata": {},
   "source": [
    "## Exploratory Data Analysis (EDA)\n",
    "\n",
    "Let's explore the dataset to understand distributions, missing values, and correlations between features.\n"
   ]
  },
  {
   "cell_type": "code",
   "execution_count": null,
   "id": "76492aba",
   "metadata": {},
   "outputs": [],
   "source": [
    "# Dataset shape and info\n",
    "print(\"Shape of the dataset:\", df.shape)\n",
    "print(\"\\nMissing values in each column:\\n\", df.isnull().sum())\n",
    "df.describe()\n"
   ]
  },
  {
   "cell_type": "code",
   "execution_count": null,
   "id": "5cd2b3c6",
   "metadata": {},
   "outputs": [],
   "source": [
    "# Histograms of all features\n",
    "import matplotlib.pyplot as plt\n",
    "import seaborn as sns\n",
    "\n",
    "df[features + ['Outcome']].hist(bins=20, figsize=(15, 10))\n",
    "plt.suptitle('Feature Distributions')\n",
    "plt.show()\n"
   ]
  },
  {
   "cell_type": "code",
   "execution_count": null,
   "id": "5d057c91",
   "metadata": {},
   "outputs": [],
   "source": [
    "# Correlation heatmap\n",
    "plt.figure(figsize=(10, 7))\n",
    "sns.heatmap(df[features + ['Outcome']].corr(), annot=True, cmap='coolwarm', fmt=\".2f\")\n",
    "plt.title(\"Correlation Matrix\")\n",
    "plt.show()\n"
   ]
  },
  {
   "cell_type": "code",
   "execution_count": null,
   "id": "6ca6b0d6",
   "metadata": {},
   "outputs": [],
   "source": [
    "# Check class distribution\n",
    "sns.countplot(x='Outcome', data=df)\n",
    "plt.title(\"Diabetes Outcome Distribution\")\n",
    "plt.xticks([0, 1], ['No Diabetes', 'Diabetes'])\n",
    "plt.show()\n"
   ]
  },
  {
   "cell_type": "code",
   "execution_count": null,
   "id": "a049d790",
   "metadata": {},
   "outputs": [],
   "source": [
    "# Select only the 7 predictor features mentioned\n",
    "features = ['Glucose', 'BloodPressure', 'SkinThickness', 'Insulin', 'BMI', 'DiabetesPedigreeFunction', 'Age']\n",
    "X = df[features]\n",
    "y = df['Outcome']  # Target variable\n"
   ]
  },
  {
   "cell_type": "code",
   "execution_count": null,
   "id": "fa04da22",
   "metadata": {},
   "outputs": [],
   "source": [
    "# Split data into train and test\n",
    "X_train, X_test, y_train, y_test = train_test_split(X, y, test_size=0.2, random_state=42)\n",
    "\n",
    "# Standardize the features\n",
    "scaler = StandardScaler()\n",
    "X_train_scaled = scaler.fit_transform(X_train)\n",
    "X_test_scaled = scaler.transform(X_test)\n"
   ]
  },
  {
   "cell_type": "code",
   "execution_count": null,
   "id": "3d25816f",
   "metadata": {},
   "outputs": [],
   "source": [
    "# Dictionary of models\n",
    "models = {\n",
    "    'KNN': KNeighborsClassifier(),\n",
    "    'SVM': SVC(probability=True),\n",
    "    'Decision Tree': DecisionTreeClassifier(),\n",
    "    'Random Forest': RandomForestClassifier(),\n",
    "    'XGBoost': XGBClassifier(use_label_encoder=False, eval_metric='logloss')\n",
    "}\n",
    "\n",
    "# Store results\n",
    "results = {}\n",
    "\n",
    "# Train and evaluate each model\n",
    "for name, model in models.items():\n",
    "    model.fit(X_train_scaled, y_train)\n",
    "    y_pred = model.predict(X_test_scaled)\n",
    "    y_prob = model.predict_proba(X_test_scaled)[:, 1]\n",
    "\n",
    "    acc = accuracy_score(y_test, y_pred)\n",
    "    auc = roc_auc_score(y_test, y_prob)\n",
    "    \n",
    "    results[name] = {'Accuracy': acc, 'AUC': auc}\n",
    "    \n",
    "    print(f\"\\n{name} Results:\")\n",
    "    print(\"Accuracy:\", round(acc, 2))\n",
    "    print(\"AUC Score:\", round(auc, 2))\n",
    "    print(\"Classification Report:\\n\", classification_report(y_test, y_pred))\n"
   ]
  },
  {
   "cell_type": "code",
   "execution_count": null,
   "id": "830bd8e4",
   "metadata": {},
   "outputs": [],
   "source": [
    "# Display comparison of all models\n",
    "print(\"\\n--- Model Comparison ---\")\n",
    "comparison_df = pd.DataFrame(results).T\n",
    "comparison_df = comparison_df.sort_values(by='AUC', ascending=False)\n",
    "comparison_df\n"
   ]
  }
 ],
 "metadata": {},
 "nbformat": 4,
 "nbformat_minor": 5
}
